{
 "cells": [
  {
   "cell_type": "code",
   "execution_count": 1,
   "metadata": {},
   "outputs": [],
   "source": [
    "import cv2 as cv"
   ]
  },
  {
   "cell_type": "code",
   "execution_count": 2,
   "metadata": {},
   "outputs": [],
   "source": [
    "import sys"
   ]
  },
  {
   "cell_type": "code",
   "execution_count": 3,
   "metadata": {},
   "outputs": [],
   "source": [
    "from matplotlib import pyplot as plt"
   ]
  },
  {
   "cell_type": "code",
   "execution_count": 4,
   "metadata": {},
   "outputs": [],
   "source": [
    "import numpy as np"
   ]
  },
  {
   "cell_type": "raw",
   "metadata": {},
   "source": []
  },
  {
   "cell_type": "code",
   "execution_count": 5,
   "metadata": {},
   "outputs": [],
   "source": [
    "img = cv.imread('sign1.jpg', cv.IMREAD_COLOR)\n",
    "img_gray = cv.cvtColor(img, cv.COLOR_BGR2GRAY)"
   ]
  },
  {
   "cell_type": "code",
   "execution_count": 6,
   "metadata": {},
   "outputs": [],
   "source": [
    "ret,img_binary = cv.threshold(img_gray, 127, 255, cv.THRESH_BINARY_INV|cv.THRESH_OTSU)\n",
    "#ret, thresh1 = cv2.threshold(blur, 127, 255, cv2.THRESH_BINARY)\n",
    "contours, hierarchy = cv.findContours(img_binary, cv.RETR_EXTERNAL, cv.CHAIN_APPROX_SIMPLE)\n",
    "#contours, _ = cv.findContours(closed.copy(), cv.RETR_EXTERNAL, cv.CHAIN_APPROX_SIMPLE)\n",
    "blur = cv.GaussianBlur(img_gray, ksize=(7,7), sigmaX = 0)\n",
    "\n",
    "edged = cv.Canny(blur, 10, 250)\n",
    "\n",
    "\n"
   ]
  },
  {
   "cell_type": "code",
   "execution_count": 7,
   "metadata": {},
   "outputs": [],
   "source": [
    "kernel = cv.getStructuringElement(cv.MORPH_RECT, (7,7))\n",
    "closed = cv.morphologyEx(edged, cv.MORPH_CLOSE, kernel)"
   ]
  },
  {
   "cell_type": "code",
   "execution_count": null,
   "metadata": {},
   "outputs": [],
   "source": [
    "total = 0\n",
    "\n",
    "#이미지에 초록선 그리기 용도\n",
    "contours_image = cv.drawContours(image, contours, -1, (0,255,0),3)\n",
    "\n",
    "contours_xy = np.array(contours)\n",
    "contours_xy.shape\n",
    "\n",
    "# x의 min과 max 찾기\n",
    "x_min, x_max = 0,0\n",
    "value = list()\n",
    "for i in range(len(contours_xy)):\n",
    "    for j in range(len(contours_xy[i])):\n",
    "        value.append(contours_xy[i][j][0][0]) #네번째 괄호가 0일때 x의 값\n",
    "        x_min = min(value)\n",
    "        x_max = max(value)\n",
    "print(x_min)\n",
    "print(x_max)\n",
    " \n",
    "# y의 min과 max 찾기\n",
    "y_min, y_max = 0,0\n",
    "value = list()\n",
    "for i in range(len(contours_xy)):\n",
    "    for j in range(len(contours_xy[i])):\n",
    "        value.append(contours_xy[i][j][0][1]) #네번째 괄호가 0일때 x의 값\n",
    "        y_min = min(value)\n",
    "        y_max = max(value)\n",
    "print(y_min)\n",
    "print(y_max)\n",
    "\n",
    "\n",
    "# image trim 하기\n",
    "def trimimg (image):\n",
    "    x = x_min\n",
    "    y = y_min\n",
    "    w = x_max-x_min\n",
    "    h = y_max-y_min\n",
    "    img_trim = image[y:y+h, x:x+w] # trim의 결과v \n",
    "    cv.imwrite('blahblah.jpg', img_trim) #''안의 이름으로 저장\n",
    "    return img_trim\n",
    "'''\n",
    "def im_trim (img): #함수로 만든다 \n",
    "    x = 845; y = 325; #자르고 싶은 지점의 x좌표와 y좌표 지정 \n",
    "    w = 180; h = 235; #x로부터 width, y로부터 height를 지정 \n",
    "    img_trim = img[y:y+h, x:x+w] #trim한 결과를 img_trim에 담는다 \n",
    "    cv2.imwrite('org_trim.jpg',img_trim) #org_trim.jpg 라는 이름으로 저장 \n",
    "    return img_trim #필요에 따라 결과물을 리턴\n",
    "'''\n",
    "\n",
    "org_image = cv.imread('org_trim.jpg') #자른 이미지 읽기"
   ]
  },
  {
   "cell_type": "code",
   "execution_count": 18,
   "metadata": {},
   "outputs": [],
   "source": [
    "#일단 사각형을 제대로 잡는지 확인용\n",
    "def setLabel(image, str, contour):\n",
    "    (text_width, text_height), baseline = cv.getTextSize(str, cv.FONT_HERSHEY_SIMPLEX, 0.7, 1)\n",
    "    x,y,width,height = cv.boundingRect(contour)\n",
    "    pt_x = x+int((width-text_width)/2)\n",
    "    pt_y = y+int((height + text_height)/2)\n",
    "    cv.rectangle(image, (pt_x, pt_y+baseline), (pt_x+text_width, pt_y-text_height), (200,200,200), cv.FILLED)\n",
    "    cv.putText(image, str, (pt_x, pt_y), cv.FONT_HERSHEY_SIMPLEX, 0.7, (0,0,0), 1, 8)"
   ]
  },
  {
   "cell_type": "code",
   "execution_count": null,
   "metadata": {},
   "outputs": [],
   "source": [
    "'''\n",
    "for cnt in contours:\n",
    "    size = len(cnt)\n",
    "    print(size)\n",
    "\n",
    "    epsilon = 0.005 * cv.arcLength(cnt, True)\n",
    "    approx = cv.approxPolyDP(cnt, epsilon, True)\n",
    "\n",
    "    size = len(approx)\n",
    "    print(size)\n",
    "\n",
    "    cv.line(img_color, tuple(approx[0][0]), tuple(approx[size-1][0]), (0, 255, 0), 3)\n",
    "    for k in range(size-1):\n",
    "        cv.line(img_color, tuple(approx[k][0]), tuple(approx[k+1][0]), (0, 255, 0), 3)\n",
    "\n",
    "    if cv.isContourConvex(approx):\n",
    "        if size == 4:\n",
    "            setLabel(img_color, \"rectangle\", cnt)\n",
    "'''"
   ]
  },
  {
   "cell_type": "raw",
   "metadata": {},
   "source": [
    "    사각형으로 검출되면 if size == 4 :\n",
    "                            x, y의 minmax 실행, 이미지 저장\n",
    "                            "
   ]
  },
  {
   "cell_type": "markdown",
   "metadata": {},
   "source": [
    "문제는 이미지 저장할 때 이미지 명이 자동으로 안 정해진다는 건데 마이크로초 붙이면 해결되려나"
   ]
  },
  {
   "cell_type": "code",
   "execution_count": null,
   "metadata": {},
   "outputs": [],
   "source": [
    "# 날짜로 이미지 저장하는 방법\n",
    "\n",
    "\n",
    "import datetime\n",
    "basename = \"image\"\n",
    "suffix = datetime.datetime.now().strftime(\"%y%m%d_%H%M%S%f\")\n",
    "filename = \"_\".join([basename, suffix])\n",
    "print(filename)\n",
    "image_160827_135633\n",
    "suffix = datetime.datetime.now().strftime(\"%y%m%d_%H%M%S%f\")\n",
    "filename = \"_\".join([basename, suffix])\n",
    "#파일 이름 확인 print(filename)\n"
   ]
  },
  {
   "cell_type": "code",
   "execution_count": null,
   "metadata": {},
   "outputs": [],
   "source": []
  },
  {
   "cell_type": "code",
   "execution_count": null,
   "metadata": {},
   "outputs": [],
   "source": []
  },
  {
   "cell_type": "raw",
   "metadata": {},
   "source": [
    "    이미지들을 파일에 따로 저장 → 파일 내 이미지 통으로 이름 변경\n",
    "   "
   ]
  },
  {
   "cell_type": "code",
   "execution_count": null,
   "metadata": {},
   "outputs": [],
   "source": [
    "# 1) 사진이 있는 폴더에 접근한다.\n",
    "\n",
    "\n",
    "import os\n",
    "\n",
    "# 주어진 디렉토리에 있는 항목들의 이름을 담고 있는 리스트를 반환합니다.\n",
    "# 리스트는 임의의 순서대로 나열됩니다.\n",
    "file_path = 'C:\\\\Users\\\\jeong\\\\Desktop\\\\사진\\\\pictures'\n",
    "file_names = os.listdir(file_path)\n",
    "file_names\n",
    "\n",
    "# >>> ['photo-1577055209976-ddae617a8023.jpg', 'photo-1577255714682-69db9b067fda.jpg', ..., 'photo-1579122549707-440e9edc4a6d.jpg']\n",
    "\n",
    "\n",
    "#2) 차례대로 파일 이름을 변경하고 저장한다.\n",
    "\n",
    "#- os.rename(src, dst) 메서드는 파일 또는 디렉토리(폴더) src의 이름을 dst로 변경합니다.\n",
    "\n",
    "i = 1\n",
    "for name in file_names:\n",
    "    src = os.path.join(file_path, name)\n",
    "    dst = str(i) + '.jpg'\n",
    "    dst = os.path.join(file_path, dst)\n",
    "    os.rename(src, dst)\n",
    "    i += 1"
   ]
  },
  {
   "cell_type": "code",
   "execution_count": null,
   "metadata": {},
   "outputs": [],
   "source": []
  },
  {
   "cell_type": "code",
   "execution_count": null,
   "metadata": {},
   "outputs": [],
   "source": []
  }
 ],
 "metadata": {
  "kernelspec": {
   "display_name": "Python 3",
   "language": "python",
   "name": "python3"
  },
  "language_info": {
   "codemirror_mode": {
    "name": "ipython",
    "version": 3
   },
   "file_extension": ".py",
   "mimetype": "text/x-python",
   "name": "python",
   "nbconvert_exporter": "python",
   "pygments_lexer": "ipython3",
   "version": "3.7.4"
  }
 },
 "nbformat": 4,
 "nbformat_minor": 2
}
